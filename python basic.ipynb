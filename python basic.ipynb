{
  "metadata": {
    "kernelspec": {
      "name": "python",
      "display_name": "Python (Pyodide)",
      "language": "python"
    },
    "language_info": {
      "codemirror_mode": {
        "name": "python",
        "version": 3
      },
      "file_extension": ".py",
      "mimetype": "text/x-python",
      "name": "python",
      "nbconvert_exporter": "python",
      "pygments_lexer": "ipython3",
      "version": "3.8"
    }
  },
  "nbformat_minor": 5,
  "nbformat": 4,
  "cells": [
    {
      "id": "fe55883a-6887-43dd-9498-5333a51799e2",
      "cell_type": "code",
      "source": "# Define a string\nmy_string = \"Hello, World!\"\n\n# Print the string\nprint(\"Original String:\", my_string)\n\n# Access individual characters in the string\nprint(\"First character:\", my_string[0])\nprint(\"Last character:\", my_string[-1])\n\n# Slicing the string\nprint(\"Substring from index 7 to end:\", my_string[7:])\nprint(\"Substring from index 7 to 11:\", my_string[7:12])\n\n# Concatenating strings\nnew_string = my_string + \" How are you?\"\nprint(\"Concatenated String:\", new_string)\n\n# Length of the string\nprint(\"Length of the string:\", len(my_string))\n\n# Convert the string to uppercase and lowercase\nprint(\"Uppercase:\", my_string.upper())\nprint(\"Lowercase:\", my_string.lower())\n\n# Replace a substring\nreplaced_string = my_string.replace(\"World\", \"Universe\")\nprint(\"Replaced String:\", replaced_string)\n\n# Split the string into a list based on a delimiter\nsplitted_string = my_string.split(\",\")\nprint(\"Splitted String:\", splitted_string)\n\n# Joining strings from a list\nwords = [\"Hello\", \"World\", \"How\", \"Are\", \"You\"]\njoined_string = \" \".join(words)\nprint(\"Joined String:\", joined_string)",
      "metadata": {
        "trusted": true
      },
      "outputs": [
        {
          "name": "stdout",
          "text": "Original String: Hello, World!\nFirst character: H\nLast character: !\nSubstring from index 7 to end: World!\nSubstring from index 7 to 11: World\nConcatenated String: Hello, World! How are you?\nLength of the string: 13\nUppercase: HELLO, WORLD!\nLowercase: hello, world!\nReplaced String: Hello, Universe!\nSplitted String: ['Hello', ' World!']\nJoined String: Hello World How Are You\n",
          "output_type": "stream"
        }
      ],
      "execution_count": 2
    },
    {
      "id": "1be26a01-824e-41ab-8b7f-1bcb45d2a2cf",
      "cell_type": "code",
      "source": "# Integer\nnum_int = 10\n\n# Float\nnum_float = 3.14\n\n# String\nstr_text = \"Hello, world!\"\n\n# Boolean\nis_true = True\n\n# List\nlist_items = [1, 2, 3, 4, 5]\n\n# Tuple\ntuple_items = (1, \"two\", 3.0)\n\n# Dictionary\ndict_items = {\"name\": \"John\", \"age\": 30, \"city\": \"New York\"}\n\n# Set\nset_items = {1, 2, 3, 4, 5}\n\n# Print data types\nprint(\"Integer:\", num_int)\nprint(\"Float:\", num_float)\nprint(\"String:\", str_text)\nprint(\"Boolean:\", is_true)\nprint(\"List:\", list_items)\nprint(\"Tuple:\", tuple_items)\nprint(\"Dictionary:\", dict_items)\nprint(\"Set:\", set_items)",
      "metadata": {
        "trusted": true
      },
      "outputs": [
        {
          "name": "stdout",
          "text": "Integer: 10\nFloat: 3.14\nString: Hello, world!\nBoolean: True\nList: [1, 2, 3, 4, 5]\nTuple: (1, 'two', 3.0)\nDictionary: {'name': 'John', 'age': 30, 'city': 'New York'}\nSet: {1, 2, 3, 4, 5}\n",
          "output_type": "stream"
        }
      ],
      "execution_count": 3
    },
    {
      "id": "8f15b180-feb1-4119-b6f9-1210e2760946",
      "cell_type": "code",
      "source": "#Code of loops\n\n\n# While loop\ncount = 0\nwhile count < 5:\n    print(\"Count is\", count)\n    count += 1\n\n# For loop\nfruits = [\"apple\", \"banana\", \"cherry\"]\nfor fruit in fruits:\n    print(\"I like\", fruit)\n\n# Nested loops\nfor i in range(3):\n    for j in range(2):\n        print(i, j)\n\n# Loop control statements\nnumbers = [1, 2, 3, 4, 5, 6, 7, 8, 9]\nfor num in numbers:\n    if num == 6:\n        break  # Exit the loop when num equals 6\n    if num % 2 == 0:\n        continue  # Skip even numbers\n    print(num)\n\n# Loop with else\nfor i in range(5):\n    print(i)\nelse:\n    print(\"Loop ended\")\n\n# Infinite loop\n# Uncomment the code below with caution, as it creates an infinite loop\n# while True:\n#     print(\"This is an infinite loop!\")",
      "metadata": {
        "trusted": true
      },
      "outputs": [
        {
          "name": "stdout",
          "text": "Count is 0\nCount is 1\nCount is 2\nCount is 3\nCount is 4\nI like apple\nI like banana\nI like cherry\n0 0\n0 1\n1 0\n1 1\n2 0\n2 1\n1\n3\n5\n0\n1\n2\n3\n4\nLoop ended\n",
          "output_type": "stream"
        }
      ],
      "execution_count": 4
    },
    {
      "id": "aed06904-61f9-4208-8ab0-1421af4896c1",
      "cell_type": "code",
      "source": "#Code of if else condition \n\n# Example of if-else condition\nx = 10\n\nif x > 5:\n    print(\"x is greater than 5\")\nelse:\n    print(\"x is less than or equal to 5\")",
      "metadata": {
        "trusted": true
      },
      "outputs": [
        {
          "name": "stdout",
          "text": "x is greater than 5\n",
          "output_type": "stream"
        }
      ],
      "execution_count": 11
    },
    {
      "id": "4404ce8c-aade-4424-95b5-26bd2967f4f6",
      "cell_type": "code",
      "source": "#Code of functions \n\n# Function to add two numbers\ndef add_numbers(a, b):\n    return a + b\n\n# Function to subtract two numbers\ndef subtract_numbers(a, b):\n    return a - b\n\n# Function to multiply two numbers\ndef multiply_numbers(a, b):\n    return a * b\n\n# Function to divide two numbers\ndef divide_numbers(a, b):\n    if b == 0:\n        return \"Error: Division by zero!\"\n    else:\n        return a / b\n\n# Example usage:\nnum1 = 10\nnum2 = 5\n\nprint(\"Addition:\", add_numbers(num1, num2))\nprint(\"Subtraction:\", subtract_numbers(num1, num2))\nprint(\"Multiplication:\", multiply_numbers(num1, num2))\nprint(\"Division:\", divide_numbers(num1, num2))",
      "metadata": {
        "trusted": true
      },
      "outputs": [
        {
          "name": "stdout",
          "text": "Addition: 15\nSubtraction: 5\nMultiplication: 50\nDivision: 2.0\n",
          "output_type": "stream"
        }
      ],
      "execution_count": 12
    },
    {
      "id": "9283edd1-dc60-4000-9a1a-cfcf5039f684",
      "cell_type": "code",
      "source": "#Code of classes \n\n\nclass Animal:\n    def _init_(self, species, sound):\n        self.species = species\n        self.sound = sound\n\n    def make_sound(self):\n        print(f\"The {self.species} says {self.sound}\")\n\nclass Dog(Animal):\n    def _init_(self, breed, name):\n        super()._init_(\"dog\", \"woof\")\n        self.breed = breed\n        self.name = name\n\n    def wag_tail(self):\n        print(f\"{self.name} wags its tail\")\n\nclass Cat(Animal):\n    def _init_(self, name):\n        super()._init_(\"cat\", \"meow\")\n        self.name = name\n\n    def purr(self):\n        print(f\"{self.name} purrs\")\n",
      "metadata": {
        "trusted": true
      },
      "outputs": [],
      "execution_count": 13
    },
    {
      "id": "413acc14-7337-4ecb-8511-d35bfe99b473",
      "cell_type": "code",
      "source": "",
      "metadata": {
        "trusted": true
      },
      "outputs": [],
      "execution_count": null
    }
  ]
}